{
  "nbformat": 4,
  "nbformat_minor": 0,
  "metadata": {
    "colab": {
      "provenance": []
    },
    "kernelspec": {
      "name": "python3",
      "display_name": "Python 3"
    },
    "language_info": {
      "name": "python"
    }
  },
  "cells": [
    {
      "cell_type": "code",
      "execution_count": null,
      "metadata": {
        "colab": {
          "base_uri": "https://localhost:8080/"
        },
        "id": "WpyjRxfSZfty",
        "outputId": "121cd6be-8aaa-41e5-bbb0-9c06cf105c20"
      },
      "outputs": [
        {
          "output_type": "stream",
          "name": "stdout",
          "text": [
            "fatal: destination path 'SB-SAT' already exists and is not an empty directory.\n"
          ]
        }
      ],
      "source": [
        "!git clone https://github.com/ahnchive/SB-SAT.git"
      ]
    },
    {
      "cell_type": "code",
      "source": [
        "import os\n",
        "import pandas as pd\n",
        "import numpy as np\n",
        "import json\n",
        "import h5py\n",
        "import pathlib\n",
        "import pickle\n",
        "from collections import defaultdict\n",
        "import random\n",
        "from copy import deepcopy\n",
        "from datetime import datetime\n",
        "\n",
        "from sklearn.utils import shuffle, class_weight\n",
        "from sklearn.model_selection import train_test_split\n",
        "from sklearn import preprocessing\n",
        "from sklearn.metrics import classification_report, confusion_matrix\n",
        "from sklearn.metrics import balanced_accuracy_score\n",
        "import itertools\n",
        "\n",
        "from keras.models import model_from_json\n",
        "from keras.callbacks import EarlyStopping, ModelCheckpoint\n",
        "from keras.utils import np_utils\n",
        "from keras.models import Sequential, Model\n",
        "from keras.layers import Input, Dense, Dropout, Activation, Flatten\n",
        "from keras.layers import Conv1D, MaxPooling1D, GlobalAveragePooling1D, LSTM, GRU, RNN, CuDNNGRU, CuDNNLSTM, Bidirectional\n",
        "from tensorflow.keras.layers import BatchNormalization\n",
        "from tensorflow.keras.optimizers import SGD, RMSprop, Adam, Adagrad, Adadelta\n",
        "from keras import backend as K\n",
        "from keras import regularizers\n",
        "\n",
        "%matplotlib inline\n",
        "import matplotlib.pyplot as plt\n",
        "import seaborn as sns\n",
        "from IPython.core.debugger import set_trace"
      ],
      "metadata": {
        "id": "qVMh7ChMZko2"
      },
      "execution_count": null,
      "outputs": []
    },
    {
      "cell_type": "code",
      "source": [
        "datanorm = True\n",
        "datacols = ['CURRENT_FIX_X', 'CURRENT_FIX_Y', 'CURRENT_FIX_PUPIL', 'CURRENT_FIX_DURATION']\n",
        "\n",
        "delta = 10\n",
        "step =  2*delta+1\n",
        "\n",
        "datasplit = 'subject'\n",
        "\n",
        "labelcols = ['subj', 'book',\n",
        "            'acc_level', 'subj_acc_level', \n",
        "            'confidence', 'difficulty', 'familiarity', 'recognition', \n",
        "            'interest', 'pressured', 'sleepiness', 'sleephours',\n",
        "            'sex', 'native']\n",
        "\n",
        "pred_variable = 'subj_acc_level'\n",
        "\n",
        "modeltype = 'cnn'\n",
        "\n",
        "BATCH_SIZE = 100\n",
        "EPOCHS = 1000"
      ],
      "metadata": {
        "id": "T720VzSWZrIe"
      },
      "execution_count": null,
      "outputs": []
    },
    {
      "cell_type": "code",
      "source": [
        "sc = pd.read_csv('SB-SAT/fixation/18sat_labels.csv')\n",
        "\n",
        "sc = sc[labelcols]\n",
        "\n",
        "sc['sex'] = sc['sex'].replace(['F', 'M'], [1,0])\n",
        "binarycols = ('recognition', 'sex', 'native')\n",
        "subsetcols = [c for c in labelcols if c not in binarycols]\n",
        "sc[subsetcols] = sc[subsetcols].replace([0,1,2,3], [0,0,1,1])\n",
        "\n",
        "for column in sc:\n",
        "    print(sc[column].value_counts(sort=False, dropna=False), '\\n')"
      ],
      "metadata": {
        "colab": {
          "base_uri": "https://localhost:8080/"
        },
        "id": "COki5mU7ZvwS",
        "outputId": "37f98d7c-a043-48af-866a-26b38e2922ff"
      },
      "execution_count": null,
      "outputs": [
        {
          "output_type": "stream",
          "name": "stdout",
          "text": [
            "msd001    4\n",
            "msd002    4\n",
            "msd003    4\n",
            "msd004    4\n",
            "msd005    4\n",
            "         ..\n",
            "msd102    4\n",
            "msd103    4\n",
            "msd105    4\n",
            "msd106    4\n",
            "msd107    4\n",
            "Name: subj, Length: 95, dtype: int64 \n",
            "\n",
            "dickens      95\n",
            "flytrap      95\n",
            "genome       95\n",
            "northpole    95\n",
            "Name: book, dtype: int64 \n",
            "\n",
            "1    231\n",
            "0    149\n",
            "Name: acc_level, dtype: int64 \n",
            "\n",
            "1    180\n",
            "0    200\n",
            "Name: subj_acc_level, dtype: int64 \n",
            "\n",
            "1    161\n",
            "0    219\n",
            "Name: confidence, dtype: int64 \n",
            "\n",
            "0    252\n",
            "1    128\n",
            "Name: difficulty, dtype: int64 \n",
            "\n",
            "0    291\n",
            "1     89\n",
            "Name: familiarity, dtype: int64 \n",
            "\n",
            "0    373\n",
            "1      7\n",
            "Name: recognition, dtype: int64 \n",
            "\n",
            "1    230\n",
            "0    150\n",
            "Name: interest, dtype: int64 \n",
            "\n",
            "0    250\n",
            "1    130\n",
            "Name: pressured, dtype: int64 \n",
            "\n",
            "0    233\n",
            "1    147\n",
            "Name: sleepiness, dtype: int64 \n",
            "\n",
            "1    200\n",
            "0    180\n",
            "Name: sleephours, dtype: int64 \n",
            "\n",
            "1    252\n",
            "0    128\n",
            "Name: sex, dtype: int64 \n",
            "\n",
            "1    264\n",
            "0    116\n",
            "Name: native, dtype: int64 \n",
            "\n"
          ]
        }
      ]
    },
    {
      "cell_type": "code",
      "source": [
        "def group_windows(fixationRows):\n",
        "    windows = []\n",
        "    fixationRows.reset_index(inplace=True)  \n",
        "    for n in range(delta, len(fixationRows)-delta, step):\n",
        "        window = fixationRows.loc[n-delta:n+delta,datacols].values.tolist()\n",
        "        windows.append(window)\n",
        "    return windows\n",
        "def generate_windata(fixation):\n",
        "    subjectPool = pd.unique(fixation['RECORDING_SESSION_LABEL'])\n",
        "    pagePool = pd.unique(fixation['page_name'])\n",
        "    windowData = {}\n",
        "    for subject in subjectPool:\n",
        "        subjectRows = fixation.loc[fixation['RECORDING_SESSION_LABEL'] == subject]\n",
        "        windowData[subject] = {}\n",
        "        print(\"\\rprocessing Subject: \" + subject, end='')\n",
        "        for page in pagePool:\n",
        "            pageRows = subjectRows.loc[subjectRows['page_name'] == page]\n",
        "            windows = group_windows(pageRows)\n",
        "            windowData[subject][page] = windows\n",
        "    print (\"\\nwindow data ready\")\n",
        "    return windowData\n",
        "def create_dataset(windowData, sc):\n",
        "    dataset = []\n",
        "    index= []\n",
        "    labeldf = pd.DataFrame()\n",
        "    for subject in windowData:\n",
        "        for article in windowData[subject]:\n",
        "            windows = windowData[subject][article]\n",
        "            for window in windows:\n",
        "                dataset.append(window)\n",
        "                book = article.split('-')[1]\n",
        "                row = sc[(sc['subj'] == subject) & (sc['book'] == book)]\n",
        "                labeldf = pd.concat([labeldf, row])\n",
        "    \n",
        "    print('dataset created')\n",
        "    return np.array(dataset), labeldf  "
      ],
      "metadata": {
        "id": "56-rT6h2ZyyV"
      },
      "execution_count": null,
      "outputs": []
    },
    {
      "cell_type": "code",
      "source": [
        "fd = pd.read_csv('SB-SAT/fixation/18sat_fixfinal.csv')\n",
        "fd_rd = fd.loc[fd.type == 'reading']\n",
        "if datanorm:\n",
        "    fixData = fd_rd.copy(deep=True)\n",
        "    fixData[datacols] = (fd_rd[datacols]-fd_rd[datacols].min())/(fd_rd[datacols].max()-fd_rd[datacols].min())\n",
        "else:\n",
        "    fixData = fd_rd.copy(deep=True)\n",
        "fixData[datacols].describe()\n",
        "windowData = generate_windata(fixData)"
      ],
      "metadata": {
        "colab": {
          "base_uri": "https://localhost:8080/"
        },
        "id": "ifRe9QlxZ1wR",
        "outputId": "21436119-560e-4340-ab1b-509ba40a4194"
      },
      "execution_count": null,
      "outputs": [
        {
          "output_type": "stream",
          "name": "stdout",
          "text": [
            "processing Subject: msd107\n",
            "window data ready\n"
          ]
        }
      ]
    },
    {
      "cell_type": "code",
      "source": [
        "with open('windowData_'+str(delta)+'.pkl', 'wb') as fp:\n",
        "    pickle.dump(windowData, fp)"
      ],
      "metadata": {
        "id": "YTfC672YZ4q1"
      },
      "execution_count": null,
      "outputs": []
    },
    {
      "cell_type": "code",
      "source": [
        "datasplit = 'book'\n",
        "\n",
        "if datasplit == 'subject':\n",
        "    subjkeys = list(windowData.keys())\n",
        "    random.Random(23).shuffle(subjkeys)\n",
        "    N_totalsub = len(subjkeys)\n",
        "    N_trainsub = round(0.6*N_totalsub)\n",
        "    N_validsub = round(0.2*N_totalsub)\n",
        "    N_testsub = N_totalsub - N_trainsub - N_validsub\n",
        "\n",
        "    windowData_train = deepcopy(windowData)\n",
        "    windowData_valid = {}\n",
        "    windowData_test = {}\n",
        "\n",
        "    for i, subj in enumerate(subjkeys):\n",
        "        if i in range(N_validsub):\n",
        "            windowData_valid[subj] = windowData_train[subj]\n",
        "            del windowData_train[subj]\n",
        "        elif i in range(N_validsub, N_validsub + N_testsub):\n",
        "            windowData_test[subj] = windowData_train[subj]\n",
        "            del windowData_train[subj]\n",
        "\n",
        "    print(\"train subj #\", len(list(windowData_train.keys())))\n",
        "    print(\"valid subj #\", len(list(windowData_valid.keys())))\n",
        "    print(\"test subj #\", len(list(windowData_test.keys())))\n",
        "\n",
        "    X_train, labels_train = create_dataset(windowData_train, sc)\n",
        "    X_valid, labels_valid = create_dataset(windowData_valid, sc)\n",
        "    X_test, labels_test = create_dataset(windowData_test, sc)\n",
        "elif datasplit == 'record':\n",
        "    X, labels = create_dataset(windowData, sc)\n",
        "    X_train, X_test, labels_train, labels_test = train_test_split(X, labels, test_size=0.4, random_state=23)\n",
        "    X_valid, X_test, labels_valid, labels_test = train_test_split(X_test, labels_test, test_size=0.5, random_state=23)\n",
        "\n",
        "elif datasplit == 'book':\n",
        "    subjkeys = list(windowData.keys())\n",
        "    pagekeys = list(windowData[subjkeys[0]].keys())\n",
        "    bookkeys = list(np.unique(sc['book']))\n",
        "    print('list of books:', bookkeys)\n",
        "\n",
        "    windowData_train = deepcopy(windowData)\n",
        "    windowData_valid = defaultdict(dict)\n",
        "    windowData_test = defaultdict(dict)\n",
        "\n",
        "    for subj in subjkeys:\n",
        "        tmp = random.sample(bookkeys,2)\n",
        "        for page in pagekeys:\n",
        "            if (page.split('-')[1] == tmp[0]):\n",
        "                windowData_valid[subj][page] = windowData_train[subj][page]\n",
        "                del windowData_train[subj][page]\n",
        "                \n",
        "            elif (page.split('-')[1] == tmp[1]): \n",
        "                windowData_test[subj][page] = windowData_train[subj][page]\n",
        "                del windowData_train[subj][page]\n",
        "\n",
        "    X_train, labels_train = create_dataset(windowData_train, sc)\n",
        "    X_valid, labels_valid = create_dataset(windowData_valid, sc)\n",
        "    X_test, labels_test = create_dataset(windowData_test, sc)\n",
        "\n",
        "    print(\"train book #\", list(windowData_train['msd001'].keys()))\n",
        "    print(\"valid book #\", list(windowData_valid['msd001'].keys()))\n",
        "    print(\"test book #\", list(windowData_test['msd001'].keys()))"
      ],
      "metadata": {
        "colab": {
          "base_uri": "https://localhost:8080/"
        },
        "id": "zmPgR8WvZ64M",
        "outputId": "94253de7-0ab9-40eb-e8c1-f555c3bf8cdb"
      },
      "execution_count": null,
      "outputs": [
        {
          "output_type": "stream",
          "name": "stdout",
          "text": [
            "list of books: ['dickens', 'flytrap', 'genome', 'northpole']\n",
            "dataset created\n",
            "dataset created\n",
            "dataset created\n",
            "train book # ['reading-dickens-1', 'reading-dickens-2', 'reading-dickens-3', 'reading-dickens-4', 'reading-dickens-5', 'reading-flytrap-1', 'reading-flytrap-2', 'reading-flytrap-3', 'reading-flytrap-4', 'reading-flytrap-5', 'reading-flytrap-6']\n",
            "valid book # ['reading-genome-1', 'reading-genome-2', 'reading-genome-3', 'reading-genome-4', 'reading-genome-5', 'reading-genome-6']\n",
            "test book # ['reading-northpole-1', 'reading-northpole-2', 'reading-northpole-3', 'reading-northpole-4', 'reading-northpole-5']\n"
          ]
        }
      ]
    },
    {
      "cell_type": "code",
      "source": [
        "np.save('SB-SAT/model/dataset/'+ datasplit +'wise/train/fix_train_' + str(delta) + '.npy', X_train)\n",
        "np.save('SB-SAT/model/dataset/' + datasplit + 'wise/val/fix_valid_' + str(delta) + '.npy', X_valid)\n",
        "np.save('SB-SAT/model/dataset/'+ datasplit + 'wise/test/fix_test_' + str(delta) + '.npy', X_test)\n",
        "\n",
        "labels_train.to_csv('SB-SAT/model/dataset/'+ datasplit +'wise/train/label_train_' + str(delta)+ '.csv', index=False)\n",
        "labels_valid.to_csv('SB-SAT/model/dataset/'+ datasplit +'wise/val/label_train_' + str(delta) + '.csv', index=False)\n",
        "labels_test.to_csv('SB-SAT/model/dataset/'+ datasplit + 'wise/test/label_train_' + str(delta) + '.csv', index=False)"
      ],
      "metadata": {
        "id": "2eFoFLLkZ9JD"
      },
      "execution_count": null,
      "outputs": []
    },
    {
      "cell_type": "code",
      "source": [
        "X_train = np.load('SB-SAT/model/dataset/'+ datasplit +'wise/train/fix_train_' + str(delta) + '.npy')\n",
        "X_valid = np.load('SB-SAT/model/dataset/' + datasplit + 'wise/val/fix_valid_' + str(delta) + '.npy')\n",
        "X_test = np.load('SB-SAT/model/dataset/'+ datasplit + 'wise/test/fix_test_' + str(delta) + '.npy')\n",
        "\n",
        "labels_train = pd.read_csv('SB-SAT/model/dataset/'+ datasplit +'wise/train/label_train_' + str(delta)+ '.csv')\n",
        "labels_valid = pd.read_csv('SB-SAT/model/dataset/'+ datasplit +'wise/val/label_train_' + str(delta) + '.csv')\n",
        "labels_test = pd.read_csv('SB-SAT/model/dataset/'+ datasplit + 'wise/test/label_train_' + str(delta) + '.csv')"
      ],
      "metadata": {
        "id": "B6CKmfomZ_vV"
      },
      "execution_count": null,
      "outputs": []
    },
    {
      "cell_type": "code",
      "source": [
        "pred_variable = 'difficulty'\n",
        "\n",
        "if pred_variable == 'subj':\n",
        "    y_train = labels_train[pred_variable].astype('category').cat.codes\n",
        "    y_valid = labels_valid[pred_variable].astype('category').cat.codes\n",
        "    y_test = labels_test[pred_variable].astype('category').cat.codes\n",
        "\n",
        "else:\n",
        "    y_train = labels_train[pred_variable]\n",
        "    y_valid = labels_valid[pred_variable]\n",
        "    y_test = labels_test[pred_variable]\n",
        "num_classes = len(pd.unique(y_train))\n",
        "\n",
        "print(\"##### data description #####\")\n",
        "print(\"# of classes:\\t\",num_classes)\n",
        "\n",
        "input_shape = X_train.shape[1:]\n",
        "print(\"input shape is:\\t\",input_shape)\n",
        "\n",
        "N_samples_train = X_train.shape[0]\n",
        "print(\"# of samples for training is:\\t\", N_samples_train)\n",
        "\n",
        "N_samples_valid = X_valid.shape[0]\n",
        "print(\"# of samples for validation is:\\t\", N_samples_valid)\n",
        "\n",
        "N_samples_test = X_test.shape[0]\n",
        "print(\"# of samples for prediction is:\\t\", N_samples_test)\n",
        "\n",
        "N_total = N_samples_train + N_samples_valid + N_samples_test\n",
        "print(\"# of total sampels:\\t\", N_total)\n",
        "\n",
        "weights = class_weight.compute_class_weight('balanced',classes=np.unique(y_train),y=y_train)\n",
        "\n",
        "print(\"\\n##### data imbalances #####\")\n",
        "print(y_train.value_counts(normalize=True).sort_index())\n",
        "\n",
        "print(\"\\n##### loss weight #####\")\n",
        "weights = dict(enumerate(weights))\n",
        "print(weights)\n",
        "\n",
        "print(\"\\n##### null acc for test dataset #####\")\n",
        "print(np.max(y_test.value_counts(normalize=True).sort_index()))\n",
        "\n",
        "y_train = np_utils.to_categorical(y_train, num_classes)\n",
        "y_valid = np_utils.to_categorical(y_valid, num_classes)\n",
        "y_test = np_utils.to_categorical(y_test, num_classes)\n"
      ],
      "metadata": {
        "colab": {
          "base_uri": "https://localhost:8080/"
        },
        "id": "hI_bfMTEaCCj",
        "outputId": "5de23667-d94b-4faa-f892-acea1a57b546"
      },
      "execution_count": null,
      "outputs": [
        {
          "output_type": "stream",
          "name": "stdout",
          "text": [
            "##### data description #####\n",
            "# of classes:\t 2\n",
            "input shape is:\t (21, 4)\n",
            "# of samples for training is:\t 5854\n",
            "# of samples for validation is:\t 2881\n",
            "# of samples for prediction is:\t 2813\n",
            "# of total sampels:\t 11548\n",
            "\n",
            "##### data imbalances #####\n",
            "0    0.671336\n",
            "1    0.328664\n",
            "Name: difficulty, dtype: float64\n",
            "\n",
            "##### loss weight #####\n",
            "{0: 0.7447837150127227, 1: 1.5213097713097714}\n",
            "\n",
            "##### null acc for test dataset #####\n",
            "0.6761464628510487\n"
          ]
        }
      ]
    },
    {
      "cell_type": "code",
      "source": [
        "modeltype = 'rnn'\n",
        "\n",
        "if 'model' in globals():\n",
        "    del model\n",
        "    K.clear_session()\n",
        "\n",
        "if modeltype == 'linear':\n",
        "    inputs = Input(shape=input_shape)\n",
        "    x = Flatten()(inputs)\n",
        "    predictions = Dense(num_classes, activation='softmax')(x)\n",
        "    model = Model(inputs=inputs, outputs=predictions)\n",
        "    model.summary()\n",
        "\n",
        "elif modeltype == 'cnn':\n",
        "    model = Sequential()\n",
        "\n",
        "    model.add(Conv1D(40, 3, input_shape= input_shape))\n",
        "    model.add(Activation('relu'))\n",
        "    model.add(Conv1D(40, 3))\n",
        "    model.add(Activation('relu'))\n",
        "    model.add(Conv1D(40, 3))\n",
        "    model.add(Activation('relu'))\n",
        "    model.add(MaxPooling1D(2))\n",
        "    model.add(Dropout(0.3))\n",
        "\n",
        "    model.add(Flatten())\n",
        "\n",
        "    model.add(Dense(50))\n",
        "    model.add(Activation('relu'))\n",
        "    model.add(Dropout(0.3))\n",
        "\n",
        "    model.add(Dense(20))\n",
        "    model.add(Activation('relu'))\n",
        "\n",
        "    model.add(Dense(num_classes, activation='softmax'))\n",
        "\n",
        "    print(model.summary())\n",
        "\n",
        "elif modeltype == 'rnn':\n",
        "    model = Sequential()\n",
        "\n",
        "    model.add(Bidirectional(LSTM(25, return_sequences = True),input_shape=input_shape)) \n",
        "    model.add(Bidirectional(LSTM(25)))\n",
        "    model.add(Dropout(0.3))\n",
        "\n",
        "    model.add(Dense(50))\n",
        "    model.add(Activation('relu'))\n",
        "    model.add(Dropout(0.3))\n",
        "\n",
        "    model.add(Dense(20))\n",
        "    model.add(Activation('relu'))\n",
        "\n",
        "    model.add(Dense(num_classes, activation='softmax'))\n",
        "    print(model.summary())"
      ],
      "metadata": {
        "colab": {
          "base_uri": "https://localhost:8080/"
        },
        "id": "N7Tc6ur8aEom",
        "outputId": "397c1b34-2ec4-4b27-ed46-2c088b62fb48"
      },
      "execution_count": null,
      "outputs": [
        {
          "output_type": "stream",
          "name": "stdout",
          "text": [
            "Model: \"sequential\"\n",
            "_________________________________________________________________\n",
            " Layer (type)                Output Shape              Param #   \n",
            "=================================================================\n",
            " bidirectional (Bidirectiona  (None, 21, 50)           6000      \n",
            " l)                                                              \n",
            "                                                                 \n",
            " bidirectional_1 (Bidirectio  (None, 50)               15200     \n",
            " nal)                                                            \n",
            "                                                                 \n",
            " dropout (Dropout)           (None, 50)                0         \n",
            "                                                                 \n",
            " dense (Dense)               (None, 50)                2550      \n",
            "                                                                 \n",
            " activation (Activation)     (None, 50)                0         \n",
            "                                                                 \n",
            " dropout_1 (Dropout)         (None, 50)                0         \n",
            "                                                                 \n",
            " dense_1 (Dense)             (None, 20)                1020      \n",
            "                                                                 \n",
            " activation_1 (Activation)   (None, 20)                0         \n",
            "                                                                 \n",
            " dense_2 (Dense)             (None, 2)                 42        \n",
            "                                                                 \n",
            "=================================================================\n",
            "Total params: 24,812\n",
            "Trainable params: 24,812\n",
            "Non-trainable params: 0\n",
            "_________________________________________________________________\n",
            "None\n"
          ]
        }
      ]
    },
    {
      "cell_type": "code",
      "source": [
        "model.compile(loss='categorical_crossentropy', optimizer= 'adam', metrics=['accuracy'])\n",
        "\n",
        "date_time = datetime.now()\n",
        "d = date_time.strftime(\"%m%d%H%M\")\n",
        "print(d)\n",
        "\n",
        "callbacks_list = [\n",
        "    ModelCheckpoint(\n",
        "        filepath= '../checkpoint/' + str(d) +'-{epoch:02d}-{val_accuracy:.2f}.h5',\n",
        "        monitor='val_accuracy', save_best_only=True),\n",
        "    EarlyStopping(monitor='val_loss', patience=50)\n",
        "]\n",
        "\n",
        "hist = model.fit(X_train, y_train, batch_size=BATCH_SIZE,  epochs =EPOCHS, class_weight = weights, verbose=2, callbacks=callbacks_list,  validation_data= (X_valid, y_valid), shuffle=True)"
      ],
      "metadata": {
        "colab": {
          "base_uri": "https://localhost:8080/"
        },
        "id": "iTrB9INyaIeu",
        "outputId": "a4a29abf-db73-4839-8c82-c32cb2712ebe"
      },
      "execution_count": null,
      "outputs": [
        {
          "output_type": "stream",
          "name": "stdout",
          "text": [
            "01051533\n",
            "Epoch 1/1000\n",
            "59/59 - 13s - loss: 0.6709 - accuracy: 0.6131 - val_loss: 0.7667 - val_accuracy: 0.4509 - 13s/epoch - 228ms/step\n",
            "Epoch 2/1000\n",
            "59/59 - 3s - loss: 0.6703 - accuracy: 0.6074 - val_loss: 0.7717 - val_accuracy: 0.5804 - 3s/epoch - 44ms/step\n",
            "Epoch 3/1000\n",
            "59/59 - 3s - loss: 0.6747 - accuracy: 0.5977 - val_loss: 0.7317 - val_accuracy: 0.5429 - 3s/epoch - 43ms/step\n",
            "Epoch 4/1000\n",
            "59/59 - 2s - loss: 0.6697 - accuracy: 0.6057 - val_loss: 0.7326 - val_accuracy: 0.5484 - 2s/epoch - 42ms/step\n",
            "Epoch 5/1000\n",
            "59/59 - 2s - loss: 0.6692 - accuracy: 0.6068 - val_loss: 0.7573 - val_accuracy: 0.4748 - 2s/epoch - 42ms/step\n",
            "Epoch 6/1000\n",
            "59/59 - 3s - loss: 0.6699 - accuracy: 0.6194 - val_loss: 0.7507 - val_accuracy: 0.5456 - 3s/epoch - 43ms/step\n",
            "Epoch 7/1000\n",
            "59/59 - 2s - loss: 0.6673 - accuracy: 0.6218 - val_loss: 0.7376 - val_accuracy: 0.4932 - 2s/epoch - 42ms/step\n",
            "Epoch 8/1000\n",
            "59/59 - 2s - loss: 0.6691 - accuracy: 0.6184 - val_loss: 0.7305 - val_accuracy: 0.5630 - 2s/epoch - 42ms/step\n",
            "Epoch 9/1000\n",
            "59/59 - 2s - loss: 0.6694 - accuracy: 0.6196 - val_loss: 0.7331 - val_accuracy: 0.5689 - 2s/epoch - 42ms/step\n",
            "Epoch 10/1000\n",
            "59/59 - 3s - loss: 0.6680 - accuracy: 0.6097 - val_loss: 0.7158 - val_accuracy: 0.5873 - 3s/epoch - 44ms/step\n",
            "Epoch 11/1000\n",
            "59/59 - 3s - loss: 0.6653 - accuracy: 0.6228 - val_loss: 0.7352 - val_accuracy: 0.5814 - 3s/epoch - 43ms/step\n",
            "Epoch 12/1000\n",
            "59/59 - 2s - loss: 0.6675 - accuracy: 0.6266 - val_loss: 0.7379 - val_accuracy: 0.5672 - 2s/epoch - 41ms/step\n",
            "Epoch 13/1000\n",
            "59/59 - 2s - loss: 0.6649 - accuracy: 0.6249 - val_loss: 0.7484 - val_accuracy: 0.5536 - 2s/epoch - 41ms/step\n",
            "Epoch 14/1000\n",
            "59/59 - 2s - loss: 0.6670 - accuracy: 0.6238 - val_loss: 0.7413 - val_accuracy: 0.5616 - 2s/epoch - 42ms/step\n",
            "Epoch 15/1000\n",
            "59/59 - 2s - loss: 0.6640 - accuracy: 0.6326 - val_loss: 0.7376 - val_accuracy: 0.5762 - 2s/epoch - 42ms/step\n",
            "Epoch 16/1000\n",
            "59/59 - 2s - loss: 0.6642 - accuracy: 0.6092 - val_loss: 0.7573 - val_accuracy: 0.5651 - 2s/epoch - 42ms/step\n",
            "Epoch 17/1000\n",
            "59/59 - 2s - loss: 0.6630 - accuracy: 0.6295 - val_loss: 0.7659 - val_accuracy: 0.5463 - 2s/epoch - 42ms/step\n",
            "Epoch 18/1000\n",
            "59/59 - 2s - loss: 0.6643 - accuracy: 0.6209 - val_loss: 0.7423 - val_accuracy: 0.5630 - 2s/epoch - 41ms/step\n",
            "Epoch 19/1000\n",
            "59/59 - 2s - loss: 0.6614 - accuracy: 0.6315 - val_loss: 0.7449 - val_accuracy: 0.5758 - 2s/epoch - 42ms/step\n",
            "Epoch 20/1000\n",
            "59/59 - 2s - loss: 0.6638 - accuracy: 0.6179 - val_loss: 0.7472 - val_accuracy: 0.5366 - 2s/epoch - 41ms/step\n",
            "Epoch 21/1000\n",
            "59/59 - 3s - loss: 0.6668 - accuracy: 0.6170 - val_loss: 0.7466 - val_accuracy: 0.5550 - 3s/epoch - 43ms/step\n",
            "Epoch 22/1000\n",
            "59/59 - 2s - loss: 0.6640 - accuracy: 0.6122 - val_loss: 0.7505 - val_accuracy: 0.5411 - 2s/epoch - 42ms/step\n",
            "Epoch 23/1000\n",
            "59/59 - 2s - loss: 0.6618 - accuracy: 0.6240 - val_loss: 0.7402 - val_accuracy: 0.5738 - 2s/epoch - 42ms/step\n",
            "Epoch 24/1000\n",
            "59/59 - 2s - loss: 0.6633 - accuracy: 0.6394 - val_loss: 0.7474 - val_accuracy: 0.5148 - 2s/epoch - 42ms/step\n",
            "Epoch 25/1000\n",
            "59/59 - 3s - loss: 0.6601 - accuracy: 0.6122 - val_loss: 0.7445 - val_accuracy: 0.5703 - 3s/epoch - 56ms/step\n",
            "Epoch 26/1000\n",
            "59/59 - 3s - loss: 0.6593 - accuracy: 0.6302 - val_loss: 0.7668 - val_accuracy: 0.5411 - 3s/epoch - 52ms/step\n",
            "Epoch 27/1000\n",
            "59/59 - 3s - loss: 0.6618 - accuracy: 0.6131 - val_loss: 0.7916 - val_accuracy: 0.5099 - 3s/epoch - 45ms/step\n",
            "Epoch 28/1000\n",
            "59/59 - 4s - loss: 0.6668 - accuracy: 0.6177 - val_loss: 0.7896 - val_accuracy: 0.5616 - 4s/epoch - 63ms/step\n",
            "Epoch 29/1000\n",
            "59/59 - 2s - loss: 0.6645 - accuracy: 0.6300 - val_loss: 0.7436 - val_accuracy: 0.5762 - 2s/epoch - 42ms/step\n",
            "Epoch 30/1000\n",
            "59/59 - 3s - loss: 0.6644 - accuracy: 0.6172 - val_loss: 0.7607 - val_accuracy: 0.5269 - 3s/epoch - 43ms/step\n",
            "Epoch 31/1000\n",
            "59/59 - 3s - loss: 0.6653 - accuracy: 0.6261 - val_loss: 0.7632 - val_accuracy: 0.5692 - 3s/epoch - 44ms/step\n",
            "Epoch 32/1000\n",
            "59/59 - 4s - loss: 0.6609 - accuracy: 0.6141 - val_loss: 0.7427 - val_accuracy: 0.5297 - 4s/epoch - 68ms/step\n",
            "Epoch 33/1000\n",
            "59/59 - 3s - loss: 0.6581 - accuracy: 0.6336 - val_loss: 0.7603 - val_accuracy: 0.5706 - 3s/epoch - 58ms/step\n",
            "Epoch 34/1000\n",
            "59/59 - 3s - loss: 0.6627 - accuracy: 0.6184 - val_loss: 0.7215 - val_accuracy: 0.5550 - 3s/epoch - 44ms/step\n",
            "Epoch 35/1000\n",
            "59/59 - 3s - loss: 0.6667 - accuracy: 0.6168 - val_loss: 0.7505 - val_accuracy: 0.5474 - 3s/epoch - 44ms/step\n",
            "Epoch 36/1000\n",
            "59/59 - 2s - loss: 0.6617 - accuracy: 0.6216 - val_loss: 0.7582 - val_accuracy: 0.5609 - 2s/epoch - 42ms/step\n",
            "Epoch 37/1000\n",
            "59/59 - 2s - loss: 0.6592 - accuracy: 0.6184 - val_loss: 0.7482 - val_accuracy: 0.5068 - 2s/epoch - 42ms/step\n",
            "Epoch 38/1000\n",
            "59/59 - 3s - loss: 0.6607 - accuracy: 0.6010 - val_loss: 0.7624 - val_accuracy: 0.5675 - 3s/epoch - 43ms/step\n",
            "Epoch 39/1000\n",
            "59/59 - 3s - loss: 0.6621 - accuracy: 0.6191 - val_loss: 0.7469 - val_accuracy: 0.5720 - 3s/epoch - 43ms/step\n",
            "Epoch 40/1000\n",
            "59/59 - 3s - loss: 0.6613 - accuracy: 0.6184 - val_loss: 0.7536 - val_accuracy: 0.5470 - 3s/epoch - 43ms/step\n",
            "Epoch 41/1000\n",
            "59/59 - 3s - loss: 0.6626 - accuracy: 0.6216 - val_loss: 0.7704 - val_accuracy: 0.5627 - 3s/epoch - 43ms/step\n",
            "Epoch 42/1000\n",
            "59/59 - 2s - loss: 0.6605 - accuracy: 0.6179 - val_loss: 0.7708 - val_accuracy: 0.5151 - 2s/epoch - 42ms/step\n",
            "Epoch 43/1000\n",
            "59/59 - 2s - loss: 0.6593 - accuracy: 0.6250 - val_loss: 0.7536 - val_accuracy: 0.5366 - 2s/epoch - 42ms/step\n",
            "Epoch 44/1000\n",
            "59/59 - 3s - loss: 0.6633 - accuracy: 0.6228 - val_loss: 0.7607 - val_accuracy: 0.5373 - 3s/epoch - 43ms/step\n",
            "Epoch 45/1000\n",
            "59/59 - 3s - loss: 0.6590 - accuracy: 0.6160 - val_loss: 0.7395 - val_accuracy: 0.5786 - 3s/epoch - 43ms/step\n",
            "Epoch 46/1000\n",
            "59/59 - 3s - loss: 0.6572 - accuracy: 0.6326 - val_loss: 0.7730 - val_accuracy: 0.5325 - 3s/epoch - 43ms/step\n",
            "Epoch 47/1000\n",
            "59/59 - 2s - loss: 0.6602 - accuracy: 0.6204 - val_loss: 0.7452 - val_accuracy: 0.5366 - 2s/epoch - 42ms/step\n",
            "Epoch 48/1000\n",
            "59/59 - 3s - loss: 0.6558 - accuracy: 0.6300 - val_loss: 0.7468 - val_accuracy: 0.5470 - 3s/epoch - 43ms/step\n",
            "Epoch 49/1000\n",
            "59/59 - 2s - loss: 0.6602 - accuracy: 0.6218 - val_loss: 0.7391 - val_accuracy: 0.5432 - 2s/epoch - 42ms/step\n",
            "Epoch 50/1000\n",
            "59/59 - 3s - loss: 0.6608 - accuracy: 0.6209 - val_loss: 0.7676 - val_accuracy: 0.5654 - 3s/epoch - 42ms/step\n",
            "Epoch 51/1000\n",
            "59/59 - 3s - loss: 0.6626 - accuracy: 0.6115 - val_loss: 0.7411 - val_accuracy: 0.5668 - 3s/epoch - 42ms/step\n",
            "Epoch 52/1000\n",
            "59/59 - 2s - loss: 0.6609 - accuracy: 0.6317 - val_loss: 0.7434 - val_accuracy: 0.5345 - 2s/epoch - 42ms/step\n",
            "Epoch 53/1000\n",
            "59/59 - 3s - loss: 0.6624 - accuracy: 0.6098 - val_loss: 0.7819 - val_accuracy: 0.5373 - 3s/epoch - 42ms/step\n",
            "Epoch 54/1000\n",
            "59/59 - 3s - loss: 0.6579 - accuracy: 0.6227 - val_loss: 0.7720 - val_accuracy: 0.5557 - 3s/epoch - 43ms/step\n",
            "Epoch 55/1000\n",
            "59/59 - 4s - loss: 0.6637 - accuracy: 0.6221 - val_loss: 0.7585 - val_accuracy: 0.5314 - 4s/epoch - 66ms/step\n",
            "Epoch 56/1000\n",
            "59/59 - 3s - loss: 0.6574 - accuracy: 0.6088 - val_loss: 0.7341 - val_accuracy: 0.5727 - 3s/epoch - 43ms/step\n",
            "Epoch 57/1000\n",
            "59/59 - 2s - loss: 0.6574 - accuracy: 0.6286 - val_loss: 0.7495 - val_accuracy: 0.5370 - 2s/epoch - 42ms/step\n",
            "Epoch 58/1000\n",
            "59/59 - 3s - loss: 0.6572 - accuracy: 0.6129 - val_loss: 0.7748 - val_accuracy: 0.5543 - 3s/epoch - 43ms/step\n",
            "Epoch 59/1000\n",
            "59/59 - 2s - loss: 0.6566 - accuracy: 0.6227 - val_loss: 0.7717 - val_accuracy: 0.5418 - 2s/epoch - 42ms/step\n",
            "Epoch 60/1000\n",
            "59/59 - 3s - loss: 0.6574 - accuracy: 0.6249 - val_loss: 0.7619 - val_accuracy: 0.5470 - 3s/epoch - 43ms/step\n"
          ]
        }
      ]
    },
    {
      "cell_type": "code",
      "source": [
        "train_loss = hist.history['loss']\n",
        "val_loss = hist.history['val_loss']\n",
        "train_acc = hist.history['accuracy']\n",
        "val_acc = hist.history['val_accuracy']\n",
        "xc = range(1,len(train_loss)+1)\n",
        "\n",
        "plt.figure(1, figsize=(7, 5), facecolor=\"white\")\n",
        "plt.plot(xc, train_loss)\n",
        "plt.plot(xc, val_loss)\n",
        "plt.xlabel('num of Epochs')\n",
        "plt.ylabel('loss')\n",
        "plt.title('train_loss vs val_loss')\n",
        "plt.grid(True)\n",
        "plt.legend(['train', 'val'])\n",
        "plt.style.use(['classic'])\n",
        "\n",
        "plt.figure(2, figsize=(7, 5),facecolor=\"white\")\n",
        "plt.plot(xc, train_acc)\n",
        "plt.plot(xc, val_acc)\n",
        "plt.xlabel('num of Epochs')\n",
        "plt.ylabel('accuracy')\n",
        "plt.title('train_acc vs val_acc')\n",
        "plt.grid(True)\n",
        "plt.legend(['train', 'val'])\n",
        "plt.style.use(['classic'])"
      ],
      "metadata": {
        "colab": {
          "base_uri": "https://localhost:8080/",
          "height": 739
        },
        "id": "6k9frrFgaLdo",
        "outputId": "f663bbaf-7674-454f-f6f0-740e4d226d3c"
      },
      "execution_count": null,
      "outputs": [
        {
          "output_type": "display_data",
          "data": {
            "text/plain": [
              "<Figure size 504x360 with 1 Axes>"
            ],
            "image/png": "[encoded data removed]"
          },
          "metadata": {}
        },
        {
          "output_type": "display_data",
          "data": {
            "text/plain": [
              "<Figure size 560x400 with 1 Axes>"
            ],
            "image/png": "[encoded data removed]"
          },
          "metadata": {}
        }
      ]
    },
    {
      "cell_type": "code",
      "source": [
        "from keras.models import load_model\n",
        "\n",
        "!mkdir -p saved_model\n",
        "model.save('savedmodel/'+ pred_variable + '/' + datasplit+ 'wise/' + modeltype + '.h5')\n",
        "\n",
        "file_model = 'savedmodel/'+ pred_variable + '/' + datasplit+ 'wise/' + modeltype + '.h5'\n",
        "loaded_model = load_model(file_model)\n",
        "print(\"Loaded model from disk\")"
      ],
      "metadata": {
        "colab": {
          "base_uri": "https://localhost:8080/"
        },
        "id": "bqS98142aPKP",
        "outputId": "208d07ce-b959-4b5c-e7e3-14aac530dd1f"
      },
      "execution_count": null,
      "outputs": [
        {
          "output_type": "stream",
          "name": "stdout",
          "text": [
            "Loaded model from disk\n"
          ]
        }
      ]
    },
    {
      "cell_type": "code",
      "source": [
        "print(\"predicted variable:\", pred_variable, '\\n')\n",
        "\n",
        "score = loaded_model.evaluate(X_test, y_test, verbose=0)\n",
        "print('Test Loss:', score[0])\n",
        "print('Test accuracy:', score[1])\n",
        "\n",
        "Y_pred = loaded_model.predict(X_test)\n",
        "y_pred = np.argmax(Y_pred, axis=1)\n",
        "\n",
        "target_names = ['level {}'.format(i) for i in range(num_classes)]\n",
        "\n",
        "print(classification_report(np.argmax(y_test, axis=1), y_pred, target_names=target_names))\n",
        "print(\"confusion matrix: \\n\", confusion_matrix(np.argmax(y_test, axis=1), y_pred))\n",
        "\n",
        "print(\"Balanced acc score:\", balanced_accuracy_score(np.argmax(y_test, axis=1), y_pred))\n",
        "print(\"Balanced error rate:\", 1- balanced_accuracy_score(np.argmax(y_test, axis=1), y_pred))"
      ],
      "metadata": {
        "colab": {
          "base_uri": "https://localhost:8080/"
        },
        "id": "wEpGzfTKaSTF",
        "outputId": "ebca3c42-b488-41ed-d248-0efa1360dc8e"
      },
      "execution_count": null,
      "outputs": [
        {
          "output_type": "stream",
          "name": "stdout",
          "text": [
            "predicted variable: difficulty \n",
            "\n",
            "Test Loss: 0.7693098187446594\n",
            "Test accuracy: 0.5687877535820007\n",
            "88/88 [==============================] - 2s 8ms/step\n",
            "              precision    recall  f1-score   support\n",
            "\n",
            "     level 0       0.70      0.63      0.67      1902\n",
            "     level 1       0.36      0.43      0.39       911\n",
            "\n",
            "    accuracy                           0.57      2813\n",
            "   macro avg       0.53      0.53      0.53      2813\n",
            "weighted avg       0.59      0.57      0.58      2813\n",
            "\n",
            "confusion matrix: \n",
            " [[1205  697]\n",
            " [ 516  395]]\n",
            "Balanced acc score: 0.5335665502025138\n",
            "Balanced error rate: 0.46643344979748624\n"
          ]
        }
      ]
    },
    {
      "cell_type": "code",
      "source": [
        "sns.set_style(\"white\")\n",
        "cfmtrix = confusion_matrix(np.argmax(y_test, axis=1), y_pred)\n",
        "\n",
        "df_cm = pd.DataFrame(cfmtrix, index = [i for i in target_names],\n",
        "                  columns = [i for i in target_names])\n",
        "plt.figure(figsize = (10,7))\n",
        "sns.heatmap(df_cm, annot=True,fmt=\"d\")"
      ],
      "metadata": {
        "colab": {
          "base_uri": "https://localhost:8080/",
          "height": 523
        },
        "id": "NnZcDV2ZaUmV",
        "outputId": "d7eea1a1-4754-4d8d-c4b6-d8a0ae9201e8"
      },
      "execution_count": null,
      "outputs": [
        {
          "output_type": "execute_result",
          "data": {
            "text/plain": [
              "<matplotlib.axes._subplots.AxesSubplot at 0x7fc516102b50>"
            ]
          },
          "metadata": {},
          "execution_count": 33
        },
        {
          "output_type": "display_data",
          "data": {
            "text/plain": [
              "<Figure size 800x560 with 2 Axes>"
            ],
            "image/png": "[encoded data removed]"
          },
          "metadata": {}
        }
      ]
    }
  ]
}