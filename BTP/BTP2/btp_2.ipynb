{
  "cells": [
    {
      "cell_type": "code",
      "execution_count": 1,
      "metadata": {
        "colab": {
          "base_uri": "https://localhost:8080/"
        },
        "id": "WpyjRxfSZfty",
        "outputId": "7a5da34b-789f-4b30-fc52-16bbb6202599"
      },
      "outputs": [
        {
          "output_type": "stream",
          "name": "stdout",
          "text": [
            "fatal: destination path 'SB-SAT' already exists and is not an empty directory.\n"
          ]
        }
      ],
      "source": [
        "!git clone https://github.com/ahnchive/SB-SAT.git"
      ]
    },
    {
      "cell_type": "code",
      "source": [
        "pip install transformers"
      ],
      "metadata": {
        "colab": {
          "base_uri": "https://localhost:8080/"
        },
        "id": "sf7V7FuTa3OL",
        "outputId": "f79eb314-e48e-4bfe-fb8a-96b1a4cf8b54"
      },
      "execution_count": 2,
      "outputs": [
        {
          "output_type": "stream",
          "name": "stdout",
          "text": [
            "Looking in indexes: https://pypi.org/simple, https://us-python.pkg.dev/colab-wheels/public/simple/\n",
            "Requirement already satisfied: transformers in /usr/local/lib/python3.10/dist-packages (4.28.1)\n",
            "Requirement already satisfied: filelock in /usr/local/lib/python3.10/dist-packages (from transformers) (3.12.0)\n",
            "Requirement already satisfied: huggingface-hub<1.0,>=0.11.0 in /usr/local/lib/python3.10/dist-packages (from transformers) (0.14.1)\n",
            "Requirement already satisfied: numpy>=1.17 in /usr/local/lib/python3.10/dist-packages (from transformers) (1.22.4)\n",
            "Requirement already satisfied: packaging>=20.0 in /usr/local/lib/python3.10/dist-packages (from transformers) (23.1)\n",
            "Requirement already satisfied: pyyaml>=5.1 in /usr/local/lib/python3.10/dist-packages (from transformers) (6.0)\n",
            "Requirement already satisfied: regex!=2019.12.17 in /usr/local/lib/python3.10/dist-packages (from transformers) (2022.10.31)\n",
            "Requirement already satisfied: requests in /usr/local/lib/python3.10/dist-packages (from transformers) (2.27.1)\n",
            "Requirement already satisfied: tokenizers!=0.11.3,<0.14,>=0.11.1 in /usr/local/lib/python3.10/dist-packages (from transformers) (0.13.3)\n",
            "Requirement already satisfied: tqdm>=4.27 in /usr/local/lib/python3.10/dist-packages (from transformers) (4.65.0)\n",
            "Requirement already satisfied: fsspec in /usr/local/lib/python3.10/dist-packages (from huggingface-hub<1.0,>=0.11.0->transformers) (2023.4.0)\n",
            "Requirement already satisfied: typing-extensions>=3.7.4.3 in /usr/local/lib/python3.10/dist-packages (from huggingface-hub<1.0,>=0.11.0->transformers) (4.5.0)\n",
            "Requirement already satisfied: urllib3<1.27,>=1.21.1 in /usr/local/lib/python3.10/dist-packages (from requests->transformers) (1.26.15)\n",
            "Requirement already satisfied: certifi>=2017.4.17 in /usr/local/lib/python3.10/dist-packages (from requests->transformers) (2022.12.7)\n",
            "Requirement already satisfied: charset-normalizer~=2.0.0 in /usr/local/lib/python3.10/dist-packages (from requests->transformers) (2.0.12)\n",
            "Requirement already satisfied: idna<4,>=2.5 in /usr/local/lib/python3.10/dist-packages (from requests->transformers) (3.4)\n"
          ]
        }
      ]
    },
    {
      "cell_type": "code",
      "execution_count": 3,
      "metadata": {
        "id": "qVMh7ChMZko2"
      },
      "outputs": [],
      "source": [
        "import os\n",
        "import pandas as pd\n",
        "import numpy as np\n",
        "import json\n",
        "import h5py\n",
        "import pathlib\n",
        "import pickle\n",
        "from collections import defaultdict\n",
        "import random\n",
        "from copy import deepcopy\n",
        "from datetime import datetime\n",
        "\n",
        "from sklearn.utils import shuffle, class_weight\n",
        "from sklearn.model_selection import train_test_split\n",
        "from sklearn.preprocessing import StandardScaler\n",
        "from sklearn import metrics\n",
        "from sklearn.tree import DecisionTreeClassifier\n",
        "from sklearn import preprocessing\n",
        "from sklearn.metrics import classification_report, confusion_matrix\n",
        "from sklearn.metrics import balanced_accuracy_score, accuracy_score\n",
        "from sklearn.linear_model import LogisticRegression\n",
        "from sklearn.ensemble import RandomForestClassifier\n",
        "from sklearn.svm import SVC\n",
        "from sklearn.neighbors import KNeighborsClassifier\n",
        "from sklearn.naive_bayes import GaussianNB\n",
        "from sklearn.naive_bayes import BernoulliNB\n",
        "from sklearn.model_selection import GridSearchCV\n",
        "import tensorflow as tf\n",
        "from transformers import BertTokenizer, TFBertForSequenceClassification\n",
        "from sklearn.metrics import classification_report\n",
        "\n",
        "import itertools\n",
        "\n",
        "from keras.models import model_from_json\n",
        "from keras.callbacks import EarlyStopping, ModelCheckpoint\n",
        "from keras.utils import np_utils\n",
        "from keras.models import Sequential, Model\n",
        "from keras.layers import Input, Dense, Dropout, Activation, Flatten\n",
        "from keras.layers import Conv1D, MaxPooling1D, GlobalAveragePooling1D, LSTM, GRU, RNN, CuDNNGRU, CuDNNLSTM, Bidirectional\n",
        "from tensorflow.keras.layers import BatchNormalization\n",
        "from tensorflow.keras.optimizers import SGD, RMSprop, Adam, Adagrad, Adadelta\n",
        "from keras import backend as K\n",
        "from keras import regularizers\n",
        "\n",
        "%matplotlib inline\n",
        "import matplotlib.pyplot as plt\n",
        "import seaborn as sns\n",
        "from IPython.core.debugger import set_trace"
      ]
    },
    {
      "cell_type": "code",
      "execution_count": 4,
      "metadata": {
        "id": "T720VzSWZrIe"
      },
      "outputs": [],
      "source": [
        "datanorm = True\n",
        "datacols = ['CURRENT_FIX_X', 'CURRENT_FIX_Y', 'CURRENT_FIX_PUPIL', 'CURRENT_FIX_DURATION']\n",
        "\n",
        "datasplit = 'subject'\n",
        "\n",
        "labelcols = ['subj', 'book',\n",
        "            'acc_level', 'subj_acc_level', \n",
        "            'confidence', 'difficulty', 'familiarity', 'recognition', \n",
        "            'interest', 'pressured', 'sleepiness', 'sleephours',\n",
        "            'sex', 'native']\n",
        "\n",
        "pred_variable = 'subj_acc_level'\n",
        "\n",
        "model_type = 'knn'\n",
        "\n",
        "BATCH_SIZE = 100\n",
        "EPOCHS = 1000"
      ]
    },
    {
      "cell_type": "code",
      "execution_count": 5,
      "metadata": {
        "colab": {
          "base_uri": "https://localhost:8080/"
        },
        "id": "COki5mU7ZvwS",
        "outputId": "a63c011a-eaae-4faa-e579-98f69caf4b41"
      },
      "outputs": [
        {
          "output_type": "stream",
          "name": "stdout",
          "text": [
            "msd001    4\n",
            "msd002    4\n",
            "msd003    4\n",
            "msd004    4\n",
            "msd005    4\n",
            "         ..\n",
            "msd102    4\n",
            "msd103    4\n",
            "msd105    4\n",
            "msd106    4\n",
            "msd107    4\n",
            "Name: subj, Length: 95, dtype: int64 \n",
            "\n",
            "dickens      95\n",
            "flytrap      95\n",
            "genome       95\n",
            "northpole    95\n",
            "Name: book, dtype: int64 \n",
            "\n",
            "1    231\n",
            "0    149\n",
            "Name: acc_level, dtype: int64 \n",
            "\n",
            "1    180\n",
            "0    200\n",
            "Name: subj_acc_level, dtype: int64 \n",
            "\n",
            "1    161\n",
            "0    219\n",
            "Name: confidence, dtype: int64 \n",
            "\n",
            "0    252\n",
            "1    128\n",
            "Name: difficulty, dtype: int64 \n",
            "\n",
            "0    291\n",
            "1     89\n",
            "Name: familiarity, dtype: int64 \n",
            "\n",
            "0    373\n",
            "1      7\n",
            "Name: recognition, dtype: int64 \n",
            "\n",
            "1    230\n",
            "0    150\n",
            "Name: interest, dtype: int64 \n",
            "\n",
            "0    250\n",
            "1    130\n",
            "Name: pressured, dtype: int64 \n",
            "\n",
            "0    233\n",
            "1    147\n",
            "Name: sleepiness, dtype: int64 \n",
            "\n",
            "1    200\n",
            "0    180\n",
            "Name: sleephours, dtype: int64 \n",
            "\n",
            "1    252\n",
            "0    128\n",
            "Name: sex, dtype: int64 \n",
            "\n",
            "1    264\n",
            "0    116\n",
            "Name: native, dtype: int64 \n",
            "\n"
          ]
        }
      ],
      "source": [
        "sc = pd.read_csv('SB-SAT/fixation/18sat_labels.csv')\n",
        "\n",
        "sc = sc[labelcols]\n",
        "\n",
        "sc['sex'] = sc['sex'].replace(['F', 'M'], [1,0])\n",
        "binarycols = ('recognition', 'sex', 'native')\n",
        "subsetcols = [c for c in labelcols if c not in binarycols]\n",
        "sc[subsetcols] = sc[subsetcols].replace([0,1,2,3], [0,0,1,1])\n",
        "\n",
        "for column in sc:\n",
        "    print(sc[column].value_counts(sort=False, dropna=False), '\\n')"
      ]
    },
    {
      "cell_type": "code",
      "execution_count": 6,
      "metadata": {
        "id": "56-rT6h2ZyyV"
      },
      "outputs": [],
      "source": [
        "def group_windows(fixationRows):\n",
        "    windows = []\n",
        "    fixationRows.reset_index(inplace=True)  \n",
        "    for n in range(0, len(fixationRows), 1):\n",
        "        window = fixationRows.loc[n,datacols].values.tolist()\n",
        "        windows.append(window)\n",
        "    return windows\n",
        "def generate_windata(fixation):\n",
        "    subjectPool = pd.unique(fixation['RECORDING_SESSION_LABEL'])\n",
        "    pagePool = pd.unique(fixation['page_name'])\n",
        "    windowData = {}\n",
        "    for subject in subjectPool:\n",
        "        subjectRows = fixation.loc[fixation['RECORDING_SESSION_LABEL'] == subject]\n",
        "        windowData[subject] = {}\n",
        "        print(\"\\rprocessing Subject: \" + subject, end='')\n",
        "        for page in pagePool:\n",
        "            pageRows = subjectRows.loc[subjectRows['page_name'] == page]\n",
        "            windows = group_windows(pageRows)\n",
        "            windowData[subject][page] = windows\n",
        "    print (\"\\nwindow data ready\")\n",
        "    return windowData\n",
        "def create_dataset(windowData, sc):\n",
        "    dataset = []\n",
        "    index= []\n",
        "    labeldf = pd.DataFrame()\n",
        "    for subject in windowData:\n",
        "        for article in windowData[subject]:\n",
        "            windows = windowData[subject][article]\n",
        "            for window in windows:\n",
        "                dataset.append(window)\n",
        "                book = article.split('-')[1]\n",
        "                row = sc[(sc['subj'] == subject) & (sc['book'] == book)]\n",
        "                labeldf = pd.concat([labeldf, row])\n",
        "    print('dataset created')\n",
        "    d = np.array(dataset)\n",
        "    print(d.shape)\n",
        "    print(labeldf.shape)\n",
        "    return d, labeldf  "
      ]
    },
    {
      "cell_type": "code",
      "execution_count": 7,
      "metadata": {
        "colab": {
          "base_uri": "https://localhost:8080/"
        },
        "id": "ifRe9QlxZ1wR",
        "outputId": "0cf632b3-bfe8-413d-94ed-78fb2a127a14"
      },
      "outputs": [
        {
          "output_type": "stream",
          "name": "stdout",
          "text": [
            "processing Subject: msd107\n",
            "window data ready\n"
          ]
        }
      ],
      "source": [
        "fd = pd.read_csv('SB-SAT/fixation/18sat_fixfinal.csv')\n",
        "fd_rd = fd.loc[fd.type == 'reading']\n",
        "if datanorm:\n",
        "    fixData = fd_rd.copy(deep=True)\n",
        "    fixData[datacols] = (fd_rd[datacols]-fd_rd[datacols].min())/(fd_rd[datacols].max()-fd_rd[datacols].min())\n",
        "else:\n",
        "    fixData = fd_rd.copy(deep=True)\n",
        "fixData[datacols].describe()\n",
        "windowData = generate_windata(fixData)"
      ]
    },
    {
      "cell_type": "code",
      "execution_count": 8,
      "metadata": {
        "id": "YTfC672YZ4q1"
      },
      "outputs": [],
      "source": [
        "with open('windowData.pkl', 'wb') as fp:\n",
        "    pickle.dump(windowData, fp)"
      ]
    },
    {
      "cell_type": "code",
      "execution_count": 9,
      "metadata": {
        "colab": {
          "base_uri": "https://localhost:8080/"
        },
        "id": "zmPgR8WvZ64M",
        "outputId": "a2233f27-3335-4fe0-cf72-5c3836967191"
      },
      "outputs": [
        {
          "output_type": "stream",
          "name": "stdout",
          "text": [
            "list of books: ['dickens', 'flytrap', 'genome', 'northpole']\n",
            "dataset created\n",
            "(130412, 4)\n",
            "(130412, 14)\n",
            "dataset created\n",
            "(65288, 4)\n",
            "(65288, 14)\n",
            "dataset created\n",
            "(67332, 4)\n",
            "(67332, 14)\n",
            "train book # ['reading-genome-1', 'reading-genome-2', 'reading-genome-3', 'reading-genome-4', 'reading-genome-5', 'reading-genome-6', 'reading-northpole-1', 'reading-northpole-2', 'reading-northpole-3', 'reading-northpole-4', 'reading-northpole-5']\n",
            "valid book # ['reading-dickens-1', 'reading-dickens-2', 'reading-dickens-3', 'reading-dickens-4', 'reading-dickens-5']\n",
            "test book # ['reading-flytrap-1', 'reading-flytrap-2', 'reading-flytrap-3', 'reading-flytrap-4', 'reading-flytrap-5', 'reading-flytrap-6']\n"
          ]
        }
      ],
      "source": [
        "datasplit = 'book'\n",
        "\n",
        "if datasplit == 'subject':\n",
        "    subjkeys = list(windowData.keys())\n",
        "    random.Random(23).shuffle(subjkeys)\n",
        "    N_totalsub = len(subjkeys)\n",
        "    N_trainsub = round(0.8*N_totalsub)\n",
        "    N_validsub = round(0.1*N_totalsub)\n",
        "    N_testsub = N_totalsub - N_trainsub - N_validsub\n",
        "\n",
        "    windowData_train = deepcopy(windowData)\n",
        "    windowData_valid = {}\n",
        "    windowData_test = {}\n",
        "\n",
        "    for i, subj in enumerate(subjkeys):\n",
        "        if i in range(N_validsub):\n",
        "            windowData_valid[subj] = windowData_train[subj]\n",
        "            del windowData_train[subj]\n",
        "        elif i in range(N_validsub, N_validsub + N_testsub):\n",
        "            windowData_test[subj] = windowData_train[subj]\n",
        "            del windowData_train[subj]\n",
        "\n",
        "    print(\"train subj #\", len(list(windowData_train.keys())))\n",
        "    print(\"valid subj #\", len(list(windowData_valid.keys())))\n",
        "    print(\"test subj #\", len(list(windowData_test.keys())))\n",
        "\n",
        "    X_train, labels_train = create_dataset(windowData_train, sc)\n",
        "    X_valid, labels_valid = create_dataset(windowData_valid, sc)\n",
        "    X_test, labels_test = create_dataset(windowData_test, sc)\n",
        "elif datasplit == 'record':\n",
        "    X, labels = create_dataset(windowData, sc)\n",
        "    X_train, X_test, labels_train, labels_test = train_test_split(X, labels, test_size=0.2, random_state=23)\n",
        "    X_valid, X_test, labels_valid, labels_test = train_test_split(X_test, labels_test, test_size=0.5, random_state=23)\n",
        "\n",
        "elif datasplit == 'book':\n",
        "    subjkeys = list(windowData.keys())\n",
        "    pagekeys = list(windowData[subjkeys[0]].keys())\n",
        "    bookkeys = list(np.unique(sc['book']))\n",
        "    print('list of books:', bookkeys)\n",
        "\n",
        "    windowData_train = deepcopy(windowData)\n",
        "    windowData_valid = defaultdict(dict)\n",
        "    windowData_test = defaultdict(dict)\n",
        "\n",
        "    for subj in subjkeys:\n",
        "        tmp = random.sample(bookkeys,2)\n",
        "        for page in pagekeys:\n",
        "            if (page.split('-')[1] == tmp[0]):\n",
        "                windowData_valid[subj][page] = windowData_train[subj][page]\n",
        "                del windowData_train[subj][page]\n",
        "                \n",
        "            elif (page.split('-')[1] == tmp[1]): \n",
        "                windowData_test[subj][page] = windowData_train[subj][page]\n",
        "                del windowData_train[subj][page]\n",
        "\n",
        "    X_train, labels_train = create_dataset(windowData_train, sc)\n",
        "    X_valid, labels_valid = create_dataset(windowData_valid, sc)\n",
        "    X_test, labels_test = create_dataset(windowData_test, sc)\n",
        "\n",
        "    print(\"train book #\", list(windowData_train['msd001'].keys()))\n",
        "    print(\"valid book #\", list(windowData_valid['msd001'].keys()))\n",
        "    print(\"test book #\", list(windowData_test['msd001'].keys()))"
      ]
    },
    {
      "cell_type": "code",
      "execution_count": 10,
      "metadata": {
        "id": "2eFoFLLkZ9JD"
      },
      "outputs": [],
      "source": [
        "np.save('SB-SAT/model/dataset/'+ datasplit +'wise/train/fix_train.npy', X_train)\n",
        "np.save('SB-SAT/model/dataset/' + datasplit + 'wise/val/fix_valid.npy', X_valid)\n",
        "np.save('SB-SAT/model/dataset/'+ datasplit + 'wise/test/fix_test.npy', X_test)\n",
        "\n",
        "labels_train.to_csv('SB-SAT/model/dataset/'+ datasplit +'wise/train/label_train.csv', index=False)\n",
        "labels_valid.to_csv('SB-SAT/model/dataset/'+ datasplit +'wise/val/label_train.csv', index=False)\n",
        "labels_test.to_csv('SB-SAT/model/dataset/'+ datasplit + 'wise/test/label_train.csv', index=False)"
      ]
    },
    {
      "cell_type": "code",
      "execution_count": 11,
      "metadata": {
        "id": "B6CKmfomZ_vV"
      },
      "outputs": [],
      "source": [
        "X_train = np.load('SB-SAT/model/dataset/'+ datasplit +'wise/train/fix_train.npy')\n",
        "X_valid = np.load('SB-SAT/model/dataset/' + datasplit + 'wise/val/fix_valid.npy')\n",
        "X_test = np.load('SB-SAT/model/dataset/'+ datasplit + 'wise/test/fix_test.npy')\n",
        "\n",
        "labels_train = pd.read_csv('SB-SAT/model/dataset/'+ datasplit +'wise/train/label_train.csv')\n",
        "labels_valid = pd.read_csv('SB-SAT/model/dataset/'+ datasplit +'wise/val/label_train.csv')\n",
        "labels_test = pd.read_csv('SB-SAT/model/dataset/'+ datasplit + 'wise/test/label_train.csv')"
      ]
    },
    {
      "cell_type": "code",
      "execution_count": 12,
      "metadata": {
        "colab": {
          "base_uri": "https://localhost:8080/"
        },
        "id": "hI_bfMTEaCCj",
        "outputId": "28f7aca6-c792-4451-97d7-23bf6495b805"
      },
      "outputs": [
        {
          "output_type": "stream",
          "name": "stdout",
          "text": [
            "##### data description #####\n",
            "# of classes:\t 2\n",
            "input shape is:\t 4\n",
            "# of samples for training is:\t 130412\n",
            "# of samples for validation is:\t 65288\n",
            "# of samples for prediction is:\t 67332\n",
            "# of total sampels:\t 263032\n",
            "\n",
            "##### data imbalances #####\n",
            "0    0.642502\n",
            "1    0.357498\n",
            "Name: difficulty, dtype: float64\n",
            "\n",
            "##### loss weight #####\n",
            "{0: 0.7782074233202053, 1: 1.3986100982368839}\n",
            "\n",
            "##### null acc for test dataset #####\n",
            "0.6998009861581418\n"
          ]
        }
      ],
      "source": [
        "pred_variable = 'difficulty'\n",
        "\n",
        "if pred_variable == 'subj':\n",
        "    y_train = labels_train[pred_variable].astype('category').cat.codes\n",
        "    y_valid = labels_valid[pred_variable].astype('category').cat.codes\n",
        "    y_test = labels_test[pred_variable].astype('category').cat.codes\n",
        "\n",
        "else:\n",
        "    y_train = labels_train[pred_variable]\n",
        "    y_valid = labels_valid[pred_variable]\n",
        "    y_test = labels_test[pred_variable]\n",
        "num_classes = len(pd.unique(y_train))\n",
        "\n",
        "print(\"##### data description #####\")\n",
        "print(\"# of classes:\\t\",num_classes)\n",
        "\n",
        "input_shape = X_train.shape[1]\n",
        "print(\"input shape is:\\t\",input_shape)\n",
        "\n",
        "N_samples_train = X_train.shape[0]\n",
        "print(\"# of samples for training is:\\t\", N_samples_train)\n",
        "\n",
        "N_samples_valid = X_valid.shape[0]\n",
        "print(\"# of samples for validation is:\\t\", N_samples_valid)\n",
        "\n",
        "N_samples_test = X_test.shape[0]\n",
        "print(\"# of samples for prediction is:\\t\", N_samples_test)\n",
        "\n",
        "N_total = N_samples_train + N_samples_valid + N_samples_test\n",
        "print(\"# of total sampels:\\t\", N_total)\n",
        "\n",
        "weights = class_weight.compute_class_weight('balanced',classes=np.unique(y_train),y=y_train)\n",
        "\n",
        "print(\"\\n##### data imbalances #####\")\n",
        "print(y_train.value_counts(normalize=True).sort_index())\n",
        "\n",
        "print(\"\\n##### loss weight #####\")\n",
        "weights = dict(enumerate(weights))\n",
        "print(weights)\n",
        "\n",
        "print(\"\\n##### null acc for test dataset #####\")\n",
        "print(np.max(y_test.value_counts(normalize=True).sort_index()))\n",
        "\n",
        "y_train = np_utils.to_categorical(y_train, num_classes)\n",
        "y_valid = np_utils.to_categorical(y_valid, num_classes)\n",
        "y_test = np_utils.to_categorical(y_test, num_classes)\n"
      ]
    },
    {
      "cell_type": "code",
      "execution_count": 13,
      "metadata": {
        "id": "CTCDFmCT4rdI",
        "colab": {
          "base_uri": "https://localhost:8080/"
        },
        "outputId": "d4607d8e-2d2f-407a-d589-db488e465164"
      },
      "outputs": [
        {
          "output_type": "stream",
          "name": "stdout",
          "text": [
            "Validation accuracy before fine-tuning: 0.5357799289302781\n",
            "Validation accuracy after fine-tuning: 0.6377129028305355\n",
            "Testing accuracy: 0.7018802352521832\n"
          ]
        }
      ],
      "source": [
        "modeltype = 'decision_tree'\n",
        "\n",
        "if 'model' in globals():\n",
        "    del model\n",
        "    K.clear_session()\n",
        "\n",
        "if modeltype == 'logistic_regression':\n",
        "    y_lr_train = labels_train[pred_variable].values\n",
        "    y_lr_valid = labels_valid[pred_variable].values\n",
        "    y_lr_test = labels_test[pred_variable].values\n",
        "\n",
        "    model = LogisticRegression()\n",
        "    model = model.fit(X_train, y_lr_train)\n",
        "    y_pred_valid = model.predict(X_valid)\n",
        "    print(\"Validation accuracy:\", accuracy_score(y_lr_valid, y_pred_valid))\n",
        "\n",
        "    # param_grid = {'penalty': ['l1', 'l2'], 'C': [0.001, 0.01, 0.1, 1, 10, 100], 'solver': ['liblinear', 'saga']}\n",
        "    # logreg = LogisticRegression()\n",
        "    # grid_search = GridSearchCV(logreg, param_grid, cv=5)\n",
        "    # grid_search.fit(X_train, y_lr_train)\n",
        "    # best_params = grid_search.best_params_\n",
        "    # print(\"Best Hyperparameters: \", best_params)\n",
        "    # lr_model = LogisticRegression(**best_params)\n",
        "    # lr_model.fit(X_train, y_lr_train)\n",
        "    # y_pred_valid = lr_model.predict(X_valid)\n",
        "    # print(\"Validation accuracy after fine-tuning:\", accuracy_score(y_lr_valid, y_pred_valid))\n",
        "\n",
        "    y_pred_test = model.predict(X_test)\n",
        "    print(\"Testing accuracy:\", accuracy_score(y_lr_test, y_pred_test))\n",
        "\n",
        "elif modeltype == 'decision_tree':\n",
        "    model = DecisionTreeClassifier(criterion=\"entropy\")\n",
        "    model = model.fit(X_train, y_train)\n",
        "    y_pred_valid = model.predict(X_valid)\n",
        "    print(\"Validation accuracy before fine-tuning:\", accuracy_score(y_valid, y_pred_valid))\n",
        "\n",
        "    model.set_params(max_depth=4, min_samples_split = 2)\n",
        "    model = model.fit(X_train, y_train)\n",
        "    y_pred_valid = model.predict(X_valid)\n",
        "    print(\"Validation accuracy after fine-tuning:\", accuracy_score(y_valid, y_pred_valid))\n",
        "\n",
        "    y_pred_test = model.predict(X_test)\n",
        "    print(\"Testing accuracy:\", accuracy_score(y_test, y_pred_test))\n",
        "\n",
        "elif modeltype == 'random_forest':\n",
        "    model = RandomForestClassifier()\n",
        "    model = model.fit(X_train, y_train)\n",
        "    y_pred_valid = model.predict(X_valid)\n",
        "    print(\"Validation accuracy before fine-tuning:\", accuracy_score(y_valid, y_pred_valid))\n",
        "\n",
        "    model.set_params(n_estimators=185, max_depth=18, min_samples_split=2, min_samples_leaf=1, random_state=42)\n",
        "    model = model.fit(X_train, y_train)\n",
        "    y_pred_valid = model.predict(X_valid)\n",
        "    print(\"Validation accuracy after fine-tuning:\", accuracy_score(y_valid, y_pred_valid))\n",
        "\n",
        "    y_pred_test = model.predict(X_test)\n",
        "    print(\"Testing accuracy:\", accuracy_score(y_test, y_pred_test))\n",
        "\n",
        "elif modeltype == 'svm':\n",
        "    y_svm_train = labels_train[pred_variable].values\n",
        "    y_svm_valid = labels_valid[pred_variable].values\n",
        "    y_svm_test = labels_test[pred_variable].values\n",
        "\n",
        "    # model = SVC()\n",
        "    # model = model.fit(X_train, y_svm_train)\n",
        "    # y_pred_valid = model.predict(X_valid)\n",
        "    # print(\"Validation accuracy before fine-tuning:\", accuracy_score(y_svm_valid, y_pred_valid))\n",
        "\n",
        "    svm_model = SVC()\n",
        "    param_grid = {'C': [0.1, 1, 10], 'kernel': ['linear', 'rbf'], 'gamma': [0.1, 1, 'scale', 'auto'], 'shrinking': [True, False], 'random_state': [42]}\n",
        "    grid_search = GridSearchCV(svm_model, param_grid, cv=5)\n",
        "    grid_search.fit(X_train, y_svm_train)\n",
        "    best_params = grid_search.best_params_\n",
        "    print(\"Best hyperparameters:\", best_params)\n",
        "    best_svm_model = SVC(**best_params)\n",
        "    best_svm_model.fit(X_train, y_svm_train)\n",
        "    y_pred_valid = best_svm_model.predict(X_valid)\n",
        "    print(\"Validation accuracy after fine-tuning:\", accuracy_score(y_svm_valid, y_pred_valid))\n",
        "\n",
        "    y_pred_test = best_svm_model.predict(X_test)\n",
        "    print(\"Testing accuracy:\", accuracy_score(y_svm_test, y_pred_test))\n",
        "\n",
        "elif modeltype == 'knn':\n",
        "    model = KNeighborsClassifier()\n",
        "    model = model.fit(X_train, y_train)\n",
        "    y_pred_valid = model.predict(X_valid)\n",
        "    print(\"Validation accuracy before fine-tuning:\", accuracy_score(y_valid, y_pred_valid))\n",
        "\n",
        "    knn_model = KNeighborsClassifier(n_neighbors=17)\n",
        "    knn_model.fit(X_train, y_train)\n",
        "    y_pred_valid = knn_model.predict(X_valid)\n",
        "    print(\"Validation accuracy after fine-tuning:\", accuracy_score(y_valid, y_pred_valid))\n",
        "\n",
        "    y_pred_test = knn_model.predict(X_test)\n",
        "    print(\"Testing accuracy:\", accuracy_score(y_test, y_pred_test))\n",
        "\n",
        "elif modeltype == 'naive_bayes':\n",
        "    y_nb_train = labels_train[pred_variable].values\n",
        "    y_nb_valid = labels_valid[pred_variable].values\n",
        "    y_nb_test = labels_test[pred_variable].values\n",
        "\n",
        "    model = GaussianNB()\n",
        "    model = model.fit(X_train, y_nb_train)\n",
        "    y_pred_valid = model.predict(X_valid)\n",
        "    print(\"Validation accuracy by GaussianNB:\", accuracy_score(y_nb_valid, y_pred_valid))\n",
        "\n",
        "    nb_model = BernoulliNB(alpha=0.1,binarize=0.5, fit_prior=True)\n",
        "    nb_model.fit(X_train, y_nb_train)\n",
        "    y_pred_valid = nb_model.predict(X_valid)\n",
        "    print(\"Validation accuracy by BernoulliNB:\", accuracy_score(y_nb_valid, y_pred_valid))\n",
        "\n",
        "    # from sklearn.model_selection import GridSearchCV\n",
        "    # naive_bayes_model = BernoulliNB()\n",
        "    # param_grid = {'alpha': [0.1, 1, 10], 'binarize': [0.0, 0.5, 1.0],  'fit_prior': [True, False]}\n",
        "    # grid_search = GridSearchCV(naive_bayes_model, param_grid, cv=5)\n",
        "    # grid_search.fit(X_train, y_nb_train)\n",
        "    # best_params = grid_search.best_params_\n",
        "    # print(\"Best Hyperparameters:\", best_params)\n",
        "    # best_bnb_model = BernoulliNB(**best_params)\n",
        "    # best_bnb_model.fit(X_train, y_nb_train)\n",
        "    # y_pred_valid = best_bnb_model.predict(X_valid)\n",
        "    # print(\"Validation accuracy after fine-tuning:\", accuracy_score(y_nb_valid, y_pred_valid))\n",
        "\n",
        "    y_pred_test = nb_model.predict(X_test)\n",
        "    print(\"Testing accuracy:\", accuracy_score(y_nb_test, y_pred_test))\n"
      ]
    },
    {
      "cell_type": "code",
      "execution_count": 15,
      "metadata": {
        "colab": {
          "base_uri": "https://localhost:8080/"
        },
        "id": "WiOZByYqsAVe",
        "outputId": "ab4db0e1-3172-4e90-a942-aef699b1320e"
      },
      "outputs": [
        {
          "output_type": "stream",
          "name": "stdout",
          "text": [
            "predicted variable: difficulty \n",
            "\n",
            "              precision    recall  f1-score   support\n",
            "\n",
            "     level 0       0.71      0.98      0.82     47119\n",
            "     level 1       0.53      0.06      0.10     20213\n",
            "\n",
            "    accuracy                           0.70     67332\n",
            "   macro avg       0.62      0.52      0.46     67332\n",
            "weighted avg       0.65      0.70      0.61     67332\n",
            "\n",
            "confusion matrix: \n",
            " [[46105  1014]\n",
            " [19059  1154]]\n",
            "Balanced acc score: 0.5177859945950718\n",
            "Balanced error rate: 0.4822140054049282\n"
          ]
        }
      ],
      "source": [
        "print(\"predicted variable:\", pred_variable, '\\n')\n",
        "\n",
        "target_names = ['level {}'.format(i) for i in range(num_classes)]\n",
        "\n",
        "# print(classification_report(y_lr_test, y_pred_test, target_names=target_names))\n",
        "# print(\"confusion matrix: \\n\", confusion_matrix(y_lr_test, y_pred_test))\n",
        "\n",
        "# print(\"Balanced acc score:\", balanced_accuracy_score(y_lr_test, y_pred_test))\n",
        "# print(\"Balanced error rate:\", 1- balanced_accuracy_score(y_lr_test, y_pred_test))\n",
        "\n",
        "y_pred_test = np.argmax(y_pred_test, axis=1)\n",
        "\n",
        "print(classification_report(np.argmax(y_test, axis=1), y_pred_test, target_names=target_names))\n",
        "print(\"confusion matrix: \\n\", confusion_matrix(np.argmax(y_test, axis=1), y_pred_test))\n",
        "\n",
        "print(\"Balanced acc score:\", balanced_accuracy_score(np.argmax(y_test, axis=1), y_pred_test))\n",
        "print(\"Balanced error rate:\", 1- balanced_accuracy_score(np.argmax(y_test, axis=1), y_pred_test))\n"
      ]
    },
    {
      "cell_type": "code",
      "execution_count": 16,
      "metadata": {
        "colab": {
          "base_uri": "https://localhost:8080/",
          "height": 616
        },
        "id": "UOh3_VkBFjBO",
        "outputId": "6c9e2664-767c-46cb-804a-95178cdf9c8d"
      },
      "outputs": [
        {
          "output_type": "execute_result",
          "data": {
            "text/plain": [
              "<Axes: >"
            ]
          },
          "metadata": {},
          "execution_count": 16
        },
        {
          "output_type": "display_data",
          "data": {
            "text/plain": [
              "<Figure size 1000x700 with 2 Axes>"
            ],
            "image/png": "[encoded data removed]"
          },
          "metadata": {}
        }
      ],
      "source": [
        "# cfmtrix = confusion_matrix(y_lr_test, y_pred_test)\n",
        "cfmtrix = confusion_matrix(np.argmax(y_test, axis=1), y_pred_test)\n",
        "df_cm = pd.DataFrame(cfmtrix, index = [i for i in target_names],\n",
        "                  columns = [i for i in target_names])\n",
        "plt.figure(figsize = (10,7))\n",
        "sns.heatmap(df_cm, annot=True,fmt=\"d\")"
      ]
    }
  ],
  "metadata": {
    "colab": {
      "provenance": []
    },
    "kernelspec": {
      "display_name": "Python 3",
      "name": "python3"
    },
    "language_info": {
      "name": "python"
    }
  },
  "nbformat": 4,
  "nbformat_minor": 0
}